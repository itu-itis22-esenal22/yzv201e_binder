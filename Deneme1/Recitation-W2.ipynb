{
 "cells": [
  {
   "cell_type": "markdown",
   "metadata": {},
   "source": [
    "# YZV 201E - Data Structures Recitation Week 2\n",
    "\n",
    "For any questions regarding this notebook, contact [Doğukan Arslan](mailto:arslan.dogukan@itu.edu.tr).\n",
    "\n",
    "## Pointers & Arrays"
   ]
  },
  {
   "cell_type": "markdown",
   "metadata": {},
   "source": [
    "### 1. Pointers"
   ]
  },
  {
   "cell_type": "markdown",
   "metadata": {},
   "source": [
    "**1.1. Variable**: a symbolic name given to a storage location that contains a value."
   ]
  },
  {
   "cell_type": "markdown",
   "metadata": {},
   "source": [
    "> **Variable Declaration:** is when you specify a type and an identifier, but have not yet assigned a value to the variable. \n",
    "\n",
    "> **Variable Definition:** is when you assign a value to a variable, typically with the assignment operator =."
   ]
  },
  {
   "cell_type": "code",
   "execution_count": 1,
   "metadata": {},
   "outputs": [],
   "source": [
    "#include <iostream>"
   ]
  },
  {
   "cell_type": "markdown",
   "metadata": {},
   "source": [
    "```\n",
    "int main() {\n",
    "``` "
   ]
  },
  {
   "cell_type": "code",
   "execution_count": 2,
   "metadata": {},
   "outputs": [
    {
     "name": "stdout",
     "output_type": "stream",
     "text": [
      "Value of the variable 'a': 5\n"
     ]
    }
   ],
   "source": [
    "int a = 5;\n",
    "    \n",
    "std::cout << \"Value of the variable 'a': \" << a << std::endl;\n",
    "    \n",
    "return 0;"
   ]
  },
  {
   "cell_type": "markdown",
   "metadata": {},
   "source": [
    "```\n",
    "}\n",
    "``` \n",
    "***"
   ]
  },
  {
   "cell_type": "markdown",
   "metadata": {},
   "source": [
    "**1.2. & (address-of) operator**: used to get the memory address (_the address of the first byte used to store the value_) of a variable. For example, ```&variable``` gives you the address of the variable ```variable```. This is often used in pointers and as a way to pass arguments by reference. "
   ]
  },
  {
   "cell_type": "code",
   "execution_count": 3,
   "metadata": {},
   "outputs": [],
   "source": [
    "#include <iostream>"
   ]
  },
  {
   "cell_type": "markdown",
   "metadata": {},
   "source": [
    "```\n",
    "int main() {\n",
    "``` "
   ]
  },
  {
   "cell_type": "code",
   "execution_count": 4,
   "metadata": {},
   "outputs": [
    {
     "name": "stdout",
     "output_type": "stream",
     "text": [
      "Address of the variable 'a': 0x7fe2dc840030\n"
     ]
    }
   ],
   "source": [
    "int a = 5;\n",
    "    \n",
    "std::cout << \"Address of the variable 'a': \" << &a << std::endl;\n",
    "    \n",
    "return 0;"
   ]
  },
  {
   "cell_type": "markdown",
   "metadata": {},
   "source": [
    "```\n",
    "}\n",
    "``` \n",
    "***"
   ]
  },
  {
   "cell_type": "markdown",
   "metadata": {},
   "source": [
    "**1.3. Pointer**: a variable that stores the memory address of another variable."
   ]
  },
  {
   "cell_type": "code",
   "execution_count": 5,
   "metadata": {},
   "outputs": [],
   "source": [
    "#include <iostream>"
   ]
  },
  {
   "cell_type": "markdown",
   "metadata": {},
   "source": [
    "```\n",
    "int main() {\n",
    "``` "
   ]
  },
  {
   "cell_type": "code",
   "execution_count": 6,
   "metadata": {},
   "outputs": [
    {
     "name": "stdout",
     "output_type": "stream",
     "text": [
      "Value of the variable 'a': 5\n",
      "Address of the variable 'a': 0x7fe2dc840038\n",
      "\n",
      "Value of the variable 'a' using pointer: 5\n",
      "Address of the variable 'a' using pointer: 0x7fe2dc840038\n",
      "\n",
      "Value of the variable 'ptr': 0x7fe2dc840038\n",
      "Address of the variable 'ptr': 0x7fe2dc840040\n"
     ]
    }
   ],
   "source": [
    "int a = 5;\n",
    "\n",
    "int *ptr;\n",
    "ptr = &a; \n",
    "\n",
    "// Shortcut for these two lines: int *ptr = a;\n",
    "    \n",
    "std::cout << \"Value of the variable 'a': \" << a << std::endl;\n",
    "std::cout << \"Address of the variable 'a': \" << &a << std::endl;\n",
    "\n",
    "std::cout << std::endl;\n",
    "\n",
    "std::cout << \"Value of the variable 'a' using pointer: \" << *ptr << std::endl;\n",
    "std::cout << \"Address of the variable 'a' using pointer: \" << ptr << std::endl;\n",
    "\n",
    "std::cout << std::endl;\n",
    "\n",
    "std::cout << \"Value of the variable 'ptr': \" << ptr << std::endl;\n",
    "std::cout << \"Address of the variable 'ptr': \" << &ptr << std::endl;\n",
    "    \n",
    "return 0;"
   ]
  },
  {
   "cell_type": "markdown",
   "metadata": {},
   "source": [
    "```\n",
    "}\n",
    "``` \n",
    "***"
   ]
  },
  {
   "cell_type": "markdown",
   "metadata": {},
   "source": [
    "**1.4. * (indirection) operator:** determines the value referred to, by the pointer-type operand. "
   ]
  },
  {
   "cell_type": "code",
   "execution_count": 7,
   "metadata": {},
   "outputs": [],
   "source": [
    "#include <iostream>"
   ]
  },
  {
   "cell_type": "markdown",
   "metadata": {},
   "source": [
    "```\n",
    "int main() {\n",
    "``` "
   ]
  },
  {
   "cell_type": "code",
   "execution_count": 8,
   "metadata": {},
   "outputs": [
    {
     "name": "stdout",
     "output_type": "stream",
     "text": [
      "Value of the variable 'a': x\n",
      "Value of the variable 'a' using pointer: x\n",
      "\n",
      "Value of the variable 'a': z\n",
      "Value of the variable 'a' using pointer: z\n"
     ]
    }
   ],
   "source": [
    "char a = 'x';\n",
    "\n",
    "char *ptr;\n",
    "ptr = &a; \n",
    "\n",
    "// Shortcut for these two lines: char *ptr = a;\n",
    "    \n",
    "std::cout << \"Value of the variable 'a': \" << a << std::endl;\n",
    "std::cout << \"Value of the variable 'a' using pointer: \" << *ptr << std::endl;\n",
    "\n",
    "std::cout << std::endl;\n",
    "\n",
    "// Change value of the variable 'a' using a pointer\n",
    "*ptr = 'z';\n",
    "\n",
    "std::cout << \"Value of the variable 'a': \" << a << std::endl;\n",
    "std::cout << \"Value of the variable 'a' using pointer: \" << *ptr << std::endl;\n",
    "\n",
    "return 0;"
   ]
  },
  {
   "cell_type": "markdown",
   "metadata": {},
   "source": [
    "```\n",
    "}\n",
    "``` \n",
    "***"
   ]
  },
  {
   "cell_type": "markdown",
   "metadata": {},
   "source": [
    "> **Note:** ```* and & are inverses of each other```\n"
   ]
  },
  {
   "cell_type": "code",
   "execution_count": 9,
   "metadata": {},
   "outputs": [],
   "source": [
    "#include <iostream>"
   ]
  },
  {
   "cell_type": "markdown",
   "metadata": {},
   "source": [
    "```\n",
    "int main() {\n",
    "``` "
   ]
  },
  {
   "cell_type": "code",
   "execution_count": 19,
   "metadata": {},
   "outputs": [
    {
     "name": "stdout",
     "output_type": "stream",
     "text": [
      "Address of the variable 'a': 0x7fe2dc8400c8\n",
      "Address of the variable 'a' using pointer: 0x7fe2dc8400c8\n",
      "\n",
      "Address of the variable 'a' using pointer with * and & operators: 0x7fe2dc8400c8\n",
      "Address of the variable 'a' using pointer with & and * operators: 0x7fe2dc8400c8\n",
      "\n",
      "Value of the variable 'a': 4.2\n",
      "Value of the variable 'a' with * and & operators: 4.2\n"
     ]
    }
   ],
   "source": [
    "float a = 4.2;\n",
    "\n",
    "float *ptr;\n",
    "ptr = &a; \n",
    "\n",
    "// Shortcut for these two lines: float *ptr = a;\n",
    "\n",
    "std::cout << \"Address of the variable 'a': \" << &a << std::endl;\n",
    "std::cout << \"Address of the variable 'a' using pointer: \" << ptr << std::endl;\n",
    "\n",
    "std::cout << std::endl;\n",
    "\n",
    "std::cout << \"Address of the variable 'a' using pointer with * and & operators: \" << *&ptr << std::endl;\n",
    "std::cout << \"Address of the variable 'a' using pointer with & and * operators: \" << *&ptr << std::endl;\n",
    "\n",
    "std::cout << std::endl;\n",
    "\n",
    "std::cout << \"Value of the variable 'a': \" << a << std::endl;\n",
    "std::cout << \"Value of the variable 'a' with * and & operators: \" << *&a << std::endl;\n",
    "\n",
    "// Below line will give an error. Use '*' only with a pointer-type operand.\n",
    "// std::cout << \"Value of the variable 'a' with & and * operators: \" << &*a << std::endl;\n",
    "\n",
    "\n",
    "return 0;"
   ]
  },
  {
   "cell_type": "markdown",
   "metadata": {},
   "source": [
    "```\n",
    "}\n",
    "``` \n",
    "***"
   ]
  },
  {
   "cell_type": "markdown",
   "metadata": {},
   "source": [
    "**1.5. Pointer operations**"
   ]
  },
  {
   "cell_type": "code",
   "execution_count": 82,
   "metadata": {},
   "outputs": [],
   "source": [
    "#include <iostream>"
   ]
  },
  {
   "cell_type": "markdown",
   "metadata": {},
   "source": [
    "```\n",
    "int main() {\n",
    "``` "
   ]
  },
  {
   "cell_type": "code",
   "execution_count": 81,
   "metadata": {},
   "outputs": [
    {
     "name": "stdout",
     "output_type": "stream",
     "text": [
      "First element of the array: 23\n",
      "Address of the first element of the array: 0x7fe2dc8403a8\n",
      "Second element of the array: 4\n",
      "Address of the second element of the array: 0x7fe2dc8403ac\n"
     ]
    }
   ],
   "source": [
    "int date[3] = {23, 4, 1923};\n",
    "int *ptr = date;\n",
    "\n",
    "std::cout << \"First element of the array: \" << *ptr << std::endl;\n",
    "std::cout << \"Address of the first element of the array: \" << ptr << std::endl;\n",
    "\n",
    "\n",
    "ptr += 1;\n",
    "    \n",
    "std::cout << \"Second element of the array: \" << *ptr << std::endl;\n",
    "std::cout << \"Address of the second element of the array: \" << ptr << std::endl;\n",
    "\n",
    "return 0;"
   ]
  },
  {
   "cell_type": "markdown",
   "metadata": {},
   "source": [
    "```\n",
    "}\n",
    "``` \n",
    "***"
   ]
  },
  {
   "cell_type": "code",
   "execution_count": 9,
   "metadata": {},
   "outputs": [],
   "source": [
    "#include <iostream>"
   ]
  },
  {
   "cell_type": "markdown",
   "metadata": {},
   "source": [
    "```\n",
    "int main() {\n",
    "``` "
   ]
  },
  {
   "cell_type": "code",
   "execution_count": 87,
   "metadata": {},
   "outputs": [
    {
     "name": "stdout",
     "output_type": "stream",
     "text": [
      "19\n",
      "20\n",
      "\n",
      "21\n",
      "21\n",
      "\n",
      "21\n",
      "0\n",
      "\n",
      "5\n",
      "5\n",
      "\n",
      "1919\n",
      "1920\n",
      "\n"
     ]
    }
   ],
   "source": [
    "int date[4] = {19, 0, 5, 1919};\n",
    "int *ptr = date;\n",
    "\n",
    "// Print the value in address pointed to by ptr, then increment the value\n",
    "std::cout << (*ptr)++ << std::endl;\n",
    "std::cout << *ptr << std::endl;\n",
    "std::cout << std::endl;\n",
    "\n",
    "// Increment the value in address pointed to by ptr, then print the value\n",
    "std::cout << ++(*ptr) << std::endl;\n",
    "std::cout << *ptr << std::endl;\n",
    "std::cout << std::endl;\n",
    "\n",
    "// Print the value in address pointed to by ptr, then increment ptr\n",
    "std::cout << *ptr++ << std::endl;\n",
    "std::cout << *ptr << std::endl;\n",
    "std::cout << std::endl;\n",
    "\n",
    "// Increment ptr, access value in new address\n",
    "std::cout << *++ptr << std::endl;\n",
    "std::cout << *ptr << std::endl;\n",
    "std::cout << std::endl;\n",
    "\n",
    "// Increment ptr, access value it points to, and increment that value\n",
    "std::cout << (*++ptr)++ << std::endl;\n",
    "std::cout << *ptr << std::endl;\n",
    "std::cout << std::endl;\n",
    "\n",
    "return 0;"
   ]
  },
  {
   "cell_type": "markdown",
   "metadata": {},
   "source": [
    "```\n",
    "}\n",
    "``` \n",
    "***"
   ]
  },
  {
   "cell_type": "markdown",
   "metadata": {},
   "source": [
    "### 2. Arrays"
   ]
  },
  {
   "cell_type": "markdown",
   "metadata": {},
   "source": [
    "> **Note:** Elements of an array are stored as consecutive blocks in the memory."
   ]
  },
  {
   "cell_type": "code",
   "execution_count": 89,
   "metadata": {},
   "outputs": [],
   "source": [
    "#include <iostream>"
   ]
  },
  {
   "cell_type": "markdown",
   "metadata": {},
   "source": [
    "```\n",
    "int main() {\n",
    "``` "
   ]
  },
  {
   "cell_type": "code",
   "execution_count": 90,
   "metadata": {},
   "outputs": [
    {
     "name": "stdout",
     "output_type": "stream",
     "text": [
      "Value of the first element: 4\n",
      "Address of the first element: 0x7fe2dc840430\n",
      "\n",
      "Value of the second element: 8\n",
      "Address of the second element: 0x7fe2dc840434\n",
      "\n",
      "Value of the third element: 15\n",
      "Address of the third element: 0x7fe2dc840438\n",
      "\n"
     ]
    }
   ],
   "source": [
    "int a[] = {4, 8, 15, 16, 23, 42};\n",
    "    \n",
    "std::cout << \"Value of the first element: \" << a[0] << std::endl;\n",
    "std::cout << \"Address of the first element: \" << &a[0] << std::endl;\n",
    "\n",
    "std::cout << std::endl;\n",
    "\n",
    "std::cout << \"Value of the second element: \" << a[1] << std::endl;\n",
    "std::cout << \"Address of the second element: \" << &a[1] << std::endl;\n",
    "\n",
    "std::cout << std::endl;\n",
    "\n",
    "std::cout << \"Value of the third element: \" << a[2] << std::endl;\n",
    "std::cout << \"Address of the third element: \" << &a[2] << std::endl;\n",
    "\n",
    "std::cout << std::endl;\n",
    "    \n",
    "return 0;"
   ]
  },
  {
   "cell_type": "markdown",
   "metadata": {},
   "source": [
    "```\n",
    "}\n",
    "``` \n",
    "***"
   ]
  },
  {
   "cell_type": "markdown",
   "metadata": {},
   "source": [
    "**2.1. Arrays vs. Pointers**"
   ]
  },
  {
   "cell_type": "markdown",
   "metadata": {},
   "source": [
    "> **Note**: Array name is a constant pointer. Cannot be changed."
   ]
  },
  {
   "cell_type": "code",
   "execution_count": 93,
   "metadata": {},
   "outputs": [],
   "source": [
    "#include <iostream>"
   ]
  },
  {
   "cell_type": "markdown",
   "metadata": {},
   "source": [
    "```\n",
    "int main() {\n",
    "``` "
   ]
  },
  {
   "cell_type": "code",
   "execution_count": 96,
   "metadata": {},
   "outputs": [
    {
     "name": "stdout",
     "output_type": "stream",
     "text": [
      "Value of the first element using ptr: 4\n",
      "Value of the first element using array: 4\n",
      "\n",
      "Value of the second element: 8\n"
     ]
    }
   ],
   "source": [
    "int a[] = {4, 8, 15, 16, 23, 42};\n",
    "int *ptr;\n",
    "\n",
    "ptr = a;\n",
    "\n",
    "// Below line is not allowed. Arrays are constant pointers.\n",
    "// a = ptr;\n",
    "    \n",
    "std::cout << \"Value of the first element using ptr: \" << *ptr << std::endl;\n",
    "std::cout << \"Value of the first element using array: \" << *a << std::endl;\n",
    "\n",
    "std::cout << std::endl;\n",
    "\n",
    "std::cout << \"Value of the second element: \" << *++ptr << std::endl;\n",
    "\n",
    "// Below line is not allowed. Arrays are constant pointers.\n",
    "// std::cout << \"Value of the second element: \" << *++a << std::endl;\n",
    "    \n",
    "return 0;"
   ]
  },
  {
   "cell_type": "markdown",
   "metadata": {},
   "source": [
    "```\n",
    "}\n",
    "``` \n",
    "***"
   ]
  },
  {
   "cell_type": "markdown",
   "metadata": {},
   "source": [
    "> **Note:** There are five ways that an element of the array can be accessed.\n"
   ]
  },
  {
   "cell_type": "code",
   "execution_count": 93,
   "metadata": {},
   "outputs": [],
   "source": [
    "#include <iostream>"
   ]
  },
  {
   "cell_type": "markdown",
   "metadata": {},
   "source": [
    "```\n",
    "int main() {\n",
    "``` "
   ]
  },
  {
   "cell_type": "code",
   "execution_count": 96,
   "metadata": {},
   "outputs": [
    {
     "name": "stdout",
     "output_type": "stream",
     "text": [
      "Value of the first element using ptr: 4\n",
      "Value of the first element using array: 4\n",
      "\n",
      "Value of the second element: 8\n"
     ]
    }
   ],
   "source": [
    "int a[] = {4, 8, 15, 16, 23, 42};\n",
    "int *ptr = a;\n",
    "\n",
    "std::cout << a[2] << std::endl;\n",
    "std::cout << ptr[2] << std::endl;\n",
    "\n",
    "std::cout << *(ptr + 2) << std::endl;\n",
    "std::cout << *(a + 2) << std::endl;\n",
    "\n",
    "std::cout << *(&a[0] + 2) << std::endl;\n",
    "// Note that &a[0] = ptr = a\n",
    "\n",
    "    \n",
    "return 0;"
   ]
  },
  {
   "cell_type": "markdown",
   "metadata": {},
   "source": [
    "```\n",
    "}\n",
    "``` \n",
    "***"
   ]
  },
  {
   "cell_type": "markdown",
   "metadata": {},
   "source": [
    "> **Note:** The address of an object is the same as the address of its first member (Their types however, are different).\n"
   ]
  },
  {
   "cell_type": "code",
   "execution_count": 1,
   "metadata": {},
   "outputs": [],
   "source": [
    "#include <iostream>"
   ]
  },
  {
   "cell_type": "markdown",
   "metadata": {},
   "source": [
    "```\n",
    "int main() {\n",
    "``` "
   ]
  },
  {
   "cell_type": "code",
   "execution_count": 2,
   "metadata": {},
   "outputs": [
    {
     "name": "stdout",
     "output_type": "stream",
     "text": [
      "0x7f78d2631030\n",
      "0x7f78d2631030\n"
     ]
    }
   ],
   "source": [
    "int a[] = {4, 8, 15, 16, 23, 42};\n",
    "\n",
    "\n",
    "std::cout << a << std::endl;\n",
    "std::cout << &a << std::endl;\n",
    "\n",
    "    \n",
    "return 0;"
   ]
  },
  {
   "cell_type": "markdown",
   "metadata": {},
   "source": [
    "```\n",
    "}\n",
    "``` \n",
    "***"
   ]
  },
  {
   "cell_type": "code",
   "execution_count": null,
   "metadata": {},
   "outputs": [],
   "source": []
  }
 ],
 "metadata": {
  "kernelspec": {
   "display_name": "C++17",
   "language": "C++17",
   "name": "xcpp17"
  },
  "language_info": {
   "codemirror_mode": "text/x-c++src",
   "file_extension": ".cpp",
   "mimetype": "text/x-c++src",
   "name": "c++",
   "version": "17"
  }
 },
 "nbformat": 4,
 "nbformat_minor": 2
}
